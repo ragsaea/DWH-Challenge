{
 "cells": [
  {
   "cell_type": "code",
   "execution_count": null,
   "metadata": {},
   "outputs": [],
   "source": [
    "import asyncio\n",
    "import aiohttp\n",
    "import os\n",
    "import time\n",
    "from pandas.core.frame import DataFrame as df\n",
    "import pandas as pd\n",
    "from datetime import datetime as dt\n",
    "import requests as req\n",
    "from pandas import json_normalize\n",
    "import pyodbc\n",
    "from fast_to_sql import fast_to_sql as fts\n",
    "import connectorx as cx\n",
    "import sqlalchemy\n",
    "from pandasql import sqldf\n",
    "import re \n",
    "import numpy as np\n",
    "from time import strftime\n",
    "from time import gmtime\n",
    "from humanfriendly import format_timespan\n",
    "import requests\n",
    "from requests_negotiate import HTTPNegotiateAuth\n",
    "import phonenumbers\n",
    "import json\n",
    "from os import listdir\n",
    "from os.path import isfile, join\n",
    "import glob\n",
    "from tabulate import tabulate"
   ]
  },
  {
   "cell_type": "code",
   "execution_count": null,
   "metadata": {},
   "outputs": [],
   "source": [
    "onlyfiles = glob.glob('D:\\\\dwh-coding-challenge\\\\DWH-Challenge\\\\data\\\\accounts\\\\*.json')\n",
    "\n",
    "list_data=[]\n",
    "\n",
    "for i in range(0,len(onlyfiles)):\n",
    "    f = open(onlyfiles[i])\n",
    "    data = json.load(f)\n",
    "    list_data.append(data)\n",
    "\n",
    "list_data=pd.DataFrame(list_data)\n",
    "#SOLUTION NO 1, accounts\n",
    "print(tabulate(list_data))"
   ]
  },
  {
   "cell_type": "code",
   "execution_count": null,
   "metadata": {},
   "outputs": [],
   "source": [
    "onlyfiles = glob.glob('D:\\\\dwh-coding-challenge\\\\DWH-Challenge\\\\data\\\\cards\\\\*.json')\n",
    "\n",
    "list_data=[]\n",
    "\n",
    "for i in range(0,len(onlyfiles)):\n",
    "    f = open(onlyfiles[i])\n",
    "    data = json.load(f)\n",
    "    list_data.append(data)\n",
    "\n",
    "list_data=pd.DataFrame(list_data)\n",
    "#SOLUTION NO 1, cards\n",
    "print(tabulate(list_data))"
   ]
  },
  {
   "cell_type": "code",
   "execution_count": null,
   "metadata": {},
   "outputs": [],
   "source": [
    "onlyfiles = glob.glob('D:\\\\dwh-coding-challenge\\\\DWH-Challenge\\\\data\\\\savings_accounts\\\\*.json')\n",
    "\n",
    "list_data=[]\n",
    "\n",
    "for i in range(0,len(onlyfiles)):\n",
    "    f = open(onlyfiles[i])\n",
    "    data = json.load(f)\n",
    "    list_data.append(data)\n",
    "\n",
    "list_data=pd.DataFrame(list_data)\n",
    "#SOLUTION NO 1, savings_accounts\n",
    "print(tabulate(list_data))"
   ]
  },
  {
   "cell_type": "code",
   "execution_count": null,
   "metadata": {},
   "outputs": [],
   "source": [
    "\n",
    "onlyfiles = glob.glob('D:\\\\dwh-coding-challenge\\\\DWH-Challenge\\\\data\\\\*\\\\*.json')\n",
    "\n",
    "\n",
    "list_data=[]\n",
    "\n",
    "for i in range(0,len(onlyfiles)):\n",
    "    f = open(onlyfiles[i])\n",
    "    data = json.load(f)\n",
    "    data['table_name']  = os.path.basename(os.path.dirname(onlyfiles[i]))\n",
    "    list_data.append(data)\n",
    "\n",
    "\n",
    "list_data=pd.DataFrame(list_data)\n",
    "list_data=list_data.sort_values('ts')\n",
    "#SOLUTION NO 1 but on loop and merger on 1 dataframe, Each table name on table_name or coloumn number 5\n",
    "print(tabulate(list_data))"
   ]
  },
  {
   "cell_type": "code",
   "execution_count": null,
   "metadata": {},
   "outputs": [],
   "source": [
    "\n",
    "onlyfiles = glob.glob('D:\\\\dwh-coding-challenge\\\\DWH-Challenge\\\\data\\\\*\\\\*.json')\n",
    "\n",
    "\n",
    "list_data2=[]\n",
    "\n",
    "for i in range(0,len(onlyfiles)):\n",
    "    f = open(onlyfiles[i])\n",
    "    data = json.load(f)\n",
    "    data['table_name']  = os.path.basename(os.path.dirname(onlyfiles[i]))\n",
    "    list_data2.append(data)\n",
    "\n",
    "#Sorting List by Historical\n",
    "list_data2=pd.DataFrame(list_data)\n",
    "list_data2=list_data2.sort_values('ts')\n",
    "list_data2 = list_data2.values.tolist()\n",
    "\n",
    "def Convert(lst):\n",
    "    res_dct = {lst[i]: lst[i + 1] for i in range(0, len(lst), 2)}\n",
    "    return res_dct\n",
    "    \n",
    "for i in range(0,len(list_data2)):\n",
    "    if(i==0):\n",
    "        if('u' in list_data2[i][1]):\n",
    "            list_data2[i].append([])\n",
    "            list_data2[i][6]=list_data2[i][5]\n",
    "        else:\n",
    "            list_data2[i].append([])\n",
    "            list_data2[i][6]=list_data2[i][3]\n",
    "    else:\n",
    "        if('u' in list_data2[i][1]):\n",
    "            list_data2[i].append([])\n",
    "            list_data2[i][6]=list_data2[i-1][6] | list_data2[i][5]\n",
    "        else:\n",
    "            list_data2[i].append([])\n",
    "            list_data2[i][6]=list_data2[i-1][6] | list_data2[i][3]\n",
    "\n",
    "#Solution No 2 with updated_result if the update and new data takes place\n",
    "list_data2=pd.DataFrame(list_data2,columns=['id','op','ts','data','table_name','set','updated_result'])\n",
    "print(tabulate(list_data2))"
   ]
  }
 ],
 "metadata": {
  "kernelspec": {
   "display_name": "Python 3.9.7 ('base')",
   "language": "python",
   "name": "python3"
  },
  "language_info": {
   "codemirror_mode": {
    "name": "ipython",
    "version": 3
   },
   "file_extension": ".py",
   "mimetype": "text/x-python",
   "name": "python",
   "nbconvert_exporter": "python",
   "pygments_lexer": "ipython3",
   "version": "3.9.7"
  },
  "orig_nbformat": 4,
  "vscode": {
   "interpreter": {
    "hash": "ad2bdc8ecc057115af97d19610ffacc2b4e99fae6737bb82f5d7fb13d2f2c186"
   }
  }
 },
 "nbformat": 4,
 "nbformat_minor": 2
}
