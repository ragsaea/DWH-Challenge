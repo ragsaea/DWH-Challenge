{
 "cells": [
  {
   "cell_type": "code",
   "execution_count": 32,
   "metadata": {},
   "outputs": [],
   "source": [
    "import asyncio\n",
    "import aiohttp\n",
    "import os\n",
    "import time\n",
    "from pandas.core.frame import DataFrame as df\n",
    "import pandas as pd\n",
    "from datetime import datetime as dt\n",
    "import requests as req\n",
    "from pandas import json_normalize\n",
    "import pyodbc\n",
    "from fast_to_sql import fast_to_sql as fts\n",
    "import connectorx as cx\n",
    "import sqlalchemy\n",
    "from pandasql import sqldf\n",
    "import re \n",
    "import numpy as np\n",
    "from time import strftime\n",
    "from time import gmtime\n",
    "from humanfriendly import format_timespan\n",
    "import requests\n",
    "from requests_negotiate import HTTPNegotiateAuth\n",
    "import phonenumbers\n",
    "import json\n",
    "from os import listdir\n",
    "from os.path import isfile, join\n",
    "import glob\n",
    "from tabulate import tabulate"
   ]
  },
  {
   "cell_type": "code",
   "execution_count": 26,
   "metadata": {},
   "outputs": [
    {
     "name": "stdout",
     "output_type": "stream",
     "text": [
      "-  ----------  -  -------------  ---------------------------------------------------------------------------------------------------------------------------  ----------------------------------------------------------\n",
      "0  a1globalid  c  1577863800000  {'account_id': 'a1', 'name': 'Anthony', 'address': 'New York', 'phone_number': '12345678', 'email': 'anthony@somebank.com'}  nan\n",
      "1  a1globalid  u  1577865600000  nan                                                                                                                          {'phone_number': '87654321'}\n",
      "2  a1globalid  u  1577890800000  nan                                                                                                                          {'savings_account_id': 'sa1'}\n",
      "3  a1globalid  u  1577894400000  nan                                                                                                                          {'address': 'Jakarta', 'email': 'anthony@anotherbank.com'}\n",
      "4  a1globalid  u  1577926800000  nan                                                                                                                          {'card_id': 'c1'}\n",
      "5  a1globalid  u  1579078860000  nan                                                                                                                          {'card_id': ''}\n",
      "6  a1globalid  u  1579163400000  nan                                                                                                                          {'card_id': 'c2'}\n",
      "-  ----------  -  -------------  ---------------------------------------------------------------------------------------------------------------------------  ----------------------------------------------------------\n"
     ]
    }
   ],
   "source": [
    "onlyfiles = glob.glob('D:\\\\dwh-coding-challenge\\\\DWH-Challenge\\\\data\\\\accounts\\\\*.json')\n",
    "\n",
    "list_data=[]\n",
    "\n",
    "for i in range(0,len(onlyfiles)):\n",
    "    f = open(onlyfiles[i])\n",
    "    data = json.load(f)\n",
    "    list_data.append(data)\n",
    "\n",
    "list_data=pd.DataFrame(list_data)\n",
    "#SOLUTION NO 1, accounts\n",
    "print(tabulate(list_data))"
   ]
  },
  {
   "cell_type": "code",
   "execution_count": 27,
   "metadata": {},
   "outputs": [
    {
     "name": "stdout",
     "output_type": "stream",
     "text": [
      "-  ----------  -  -------------  -----------------------------------------------------------------------------------------------------------  ----------------------\n",
      "0  c1globalid  c  1577926800000  {'card_id': 'c1', 'card_number': '11112222', 'credit_used': 0, 'monthly_limit': 30000, 'status': 'PENDING'}  nan\n",
      "1  c1globalid  u  1578159000000  nan                                                                                                          {'status': 'ACTIVE'}\n",
      "2  c1globalid  u  1578313800000  nan                                                                                                          {'credit_used': 12000}\n",
      "3  c1globalid  u  1578420000000  nan                                                                                                          {'credit_used': 19000}\n",
      "4  c1globalid  u  1578654000000  nan                                                                                                          {'credit_used': 0}\n",
      "5  c1globalid  u  1579078800000  nan                                                                                                          {'status': 'CLOSED'}\n",
      "6  c2globalid  c  1579163400000  {'card_id': 'c2', 'card_number': '12123434', 'credit_used': 0, 'monthly_limit': 70000, 'status': 'PENDING'}  nan\n",
      "7  c2globalid  u  1579298400000  nan                                                                                                          {'status': 'ACTIVE'}\n",
      "8  c2globalid  u  1579361400000  nan                                                                                                          {'credit_used': 37000}\n",
      "-  ----------  -  -------------  -----------------------------------------------------------------------------------------------------------  ----------------------\n"
     ]
    }
   ],
   "source": [
    "onlyfiles = glob.glob('D:\\\\dwh-coding-challenge\\\\DWH-Challenge\\\\data\\\\cards\\\\*.json')\n",
    "\n",
    "list_data=[]\n",
    "\n",
    "for i in range(0,len(onlyfiles)):\n",
    "    f = open(onlyfiles[i])\n",
    "    data = json.load(f)\n",
    "    list_data.append(data)\n",
    "\n",
    "list_data=pd.DataFrame(list_data)\n",
    "#SOLUTION NO 1, cards\n",
    "print(tabulate(list_data))"
   ]
  },
  {
   "cell_type": "code",
   "execution_count": 28,
   "metadata": {},
   "outputs": [
    {
     "name": "stdout",
     "output_type": "stream",
     "text": [
      "-  -----------  -  -------------  ---------------------------------------------------------------------------------------------  ------------------------------\n",
      "0  sa1globalid  c  1577890800000  {'savings_account_id': 'sa1', 'balance': 0, 'interest_rate_percent': 1.5, 'status': 'ACTIVE'}  nan\n",
      "1  sa1globalid  u  1577955600000  nan                                                                                            {'balance': 15000}\n",
      "2  sa1globalid  u  1578159060000  nan                                                                                            {'interest_rate_percent': 3.0}\n",
      "3  sa1globalid  u  1578648600000  nan                                                                                            {'balance': 40000}\n",
      "4  sa1globalid  u  1578654000000  nan                                                                                            {'balance': 21000}\n",
      "5  sa1globalid  u  1579078860000  nan                                                                                            {'interest_rate_percent': 1.5}\n",
      "6  sa1globalid  u  1579298460000  nan                                                                                            {'interest_rate_percent': 4.0}\n",
      "7  sa1globalid  u  1579505400000  nan                                                                                            {'balance': 33000}\n",
      "-  -----------  -  -------------  ---------------------------------------------------------------------------------------------  ------------------------------\n"
     ]
    }
   ],
   "source": [
    "onlyfiles = glob.glob('D:\\\\dwh-coding-challenge\\\\DWH-Challenge\\\\data\\\\savings_accounts\\\\*.json')\n",
    "\n",
    "list_data=[]\n",
    "\n",
    "for i in range(0,len(onlyfiles)):\n",
    "    f = open(onlyfiles[i])\n",
    "    data = json.load(f)\n",
    "    list_data.append(data)\n",
    "\n",
    "list_data=pd.DataFrame(list_data)\n",
    "#SOLUTION NO 1, savings_accounts\n",
    "print(tabulate(list_data))"
   ]
  },
  {
   "cell_type": "code",
   "execution_count": 29,
   "metadata": {},
   "outputs": [
    {
     "name": "stdout",
     "output_type": "stream",
     "text": [
      "--  -----------  -  -------------  ---------------------------------------------------------------------------------------------------------------------------  ----------------  ----------------------------------------------------------\n",
      " 0  a1globalid   c  1577863800000  {'account_id': 'a1', 'name': 'Anthony', 'address': 'New York', 'phone_number': '12345678', 'email': 'anthony@somebank.com'}  accounts          nan\n",
      " 1  a1globalid   u  1577865600000  nan                                                                                                                          accounts          {'phone_number': '87654321'}\n",
      " 2  a1globalid   u  1577890800000  nan                                                                                                                          accounts          {'savings_account_id': 'sa1'}\n",
      "16  sa1globalid  c  1577890800000  {'savings_account_id': 'sa1', 'balance': 0, 'interest_rate_percent': 1.5, 'status': 'ACTIVE'}                                savings_accounts  nan\n",
      " 3  a1globalid   u  1577894400000  nan                                                                                                                          accounts          {'address': 'Jakarta', 'email': 'anthony@anotherbank.com'}\n",
      " 4  a1globalid   u  1577926800000  nan                                                                                                                          accounts          {'card_id': 'c1'}\n",
      " 7  c1globalid   c  1577926800000  {'card_id': 'c1', 'card_number': '11112222', 'credit_used': 0, 'monthly_limit': 30000, 'status': 'PENDING'}                  cards             nan\n",
      "17  sa1globalid  u  1577955600000  nan                                                                                                                          savings_accounts  {'balance': 15000}\n",
      " 8  c1globalid   u  1578159000000  nan                                                                                                                          cards             {'status': 'ACTIVE'}\n",
      "18  sa1globalid  u  1578159060000  nan                                                                                                                          savings_accounts  {'interest_rate_percent': 3.0}\n",
      " 9  c1globalid   u  1578313800000  nan                                                                                                                          cards             {'credit_used': 12000}\n",
      "10  c1globalid   u  1578420000000  nan                                                                                                                          cards             {'credit_used': 19000}\n",
      "19  sa1globalid  u  1578648600000  nan                                                                                                                          savings_accounts  {'balance': 40000}\n",
      "20  sa1globalid  u  1578654000000  nan                                                                                                                          savings_accounts  {'balance': 21000}\n",
      "11  c1globalid   u  1578654000000  nan                                                                                                                          cards             {'credit_used': 0}\n",
      "12  c1globalid   u  1579078800000  nan                                                                                                                          cards             {'status': 'CLOSED'}\n",
      " 5  a1globalid   u  1579078860000  nan                                                                                                                          accounts          {'card_id': ''}\n",
      "21  sa1globalid  u  1579078860000  nan                                                                                                                          savings_accounts  {'interest_rate_percent': 1.5}\n",
      "13  c2globalid   c  1579163400000  {'card_id': 'c2', 'card_number': '12123434', 'credit_used': 0, 'monthly_limit': 70000, 'status': 'PENDING'}                  cards             nan\n",
      " 6  a1globalid   u  1579163400000  nan                                                                                                                          accounts          {'card_id': 'c2'}\n",
      "14  c2globalid   u  1579298400000  nan                                                                                                                          cards             {'status': 'ACTIVE'}\n",
      "22  sa1globalid  u  1579298460000  nan                                                                                                                          savings_accounts  {'interest_rate_percent': 4.0}\n",
      "15  c2globalid   u  1579361400000  nan                                                                                                                          cards             {'credit_used': 37000}\n",
      "23  sa1globalid  u  1579505400000  nan                                                                                                                          savings_accounts  {'balance': 33000}\n",
      "--  -----------  -  -------------  ---------------------------------------------------------------------------------------------------------------------------  ----------------  ----------------------------------------------------------\n"
     ]
    }
   ],
   "source": [
    "\n",
    "onlyfiles = glob.glob('D:\\\\dwh-coding-challenge\\\\DWH-Challenge\\\\data\\\\*\\\\*.json')\n",
    "\n",
    "\n",
    "list_data=[]\n",
    "\n",
    "for i in range(0,len(onlyfiles)):\n",
    "    f = open(onlyfiles[i])\n",
    "    data = json.load(f)\n",
    "    data['table_name']  = os.path.basename(os.path.dirname(onlyfiles[i]))\n",
    "    list_data.append(data)\n",
    "\n",
    "\n",
    "list_data=pd.DataFrame(list_data)\n",
    "list_data=list_data.sort_values('ts')\n",
    "#SOLUTION NO 1 but on loop and merger on 1 dataframe, Each table name on table_name or coloumn number 5\n",
    "print(tabulate(list_data))"
   ]
  },
  {
   "cell_type": "code",
   "execution_count": 30,
   "metadata": {},
   "outputs": [
    {
     "name": "stdout",
     "output_type": "stream",
     "text": [
      "--  -----------  -  -------------  ---------------------------------------------------------------------------------------------------------------------------  ----------------  ----------------------------------------------------------  ------------------------------------------------------------------------------------------------------------------------------------------------------------------------------------------------------------------------------------------------------------------------------------------------------------------------\n",
      " 0  a1globalid   c  1577863800000  {'account_id': 'a1', 'name': 'Anthony', 'address': 'New York', 'phone_number': '12345678', 'email': 'anthony@somebank.com'}  accounts          nan                                                         {'account_id': 'a1', 'name': 'Anthony', 'address': 'New York', 'phone_number': '12345678', 'email': 'anthony@somebank.com'}\n",
      " 1  a1globalid   u  1577865600000  nan                                                                                                                          accounts          {'phone_number': '87654321'}                                {'account_id': 'a1', 'name': 'Anthony', 'address': 'New York', 'phone_number': '87654321', 'email': 'anthony@somebank.com'}\n",
      " 2  a1globalid   u  1577890800000  nan                                                                                                                          accounts          {'savings_account_id': 'sa1'}                               {'account_id': 'a1', 'name': 'Anthony', 'address': 'New York', 'phone_number': '87654321', 'email': 'anthony@somebank.com', 'savings_account_id': 'sa1'}\n",
      " 3  sa1globalid  c  1577890800000  {'savings_account_id': 'sa1', 'balance': 0, 'interest_rate_percent': 1.5, 'status': 'ACTIVE'}                                savings_accounts  nan                                                         {'account_id': 'a1', 'name': 'Anthony', 'address': 'New York', 'phone_number': '87654321', 'email': 'anthony@somebank.com', 'savings_account_id': 'sa1', 'balance': 0, 'interest_rate_percent': 1.5, 'status': 'ACTIVE'}\n",
      " 4  a1globalid   u  1577894400000  nan                                                                                                                          accounts          {'address': 'Jakarta', 'email': 'anthony@anotherbank.com'}  {'account_id': 'a1', 'name': 'Anthony', 'address': 'Jakarta', 'phone_number': '87654321', 'email': 'anthony@anotherbank.com', 'savings_account_id': 'sa1', 'balance': 0, 'interest_rate_percent': 1.5, 'status': 'ACTIVE'}\n",
      " 5  a1globalid   u  1577926800000  nan                                                                                                                          accounts          {'card_id': 'c1'}                                           {'account_id': 'a1', 'name': 'Anthony', 'address': 'Jakarta', 'phone_number': '87654321', 'email': 'anthony@anotherbank.com', 'savings_account_id': 'sa1', 'balance': 0, 'interest_rate_percent': 1.5, 'status': 'ACTIVE', 'card_id': 'c1'}\n",
      " 6  c1globalid   c  1577926800000  {'card_id': 'c1', 'card_number': '11112222', 'credit_used': 0, 'monthly_limit': 30000, 'status': 'PENDING'}                  cards             nan                                                         {'account_id': 'a1', 'name': 'Anthony', 'address': 'Jakarta', 'phone_number': '87654321', 'email': 'anthony@anotherbank.com', 'savings_account_id': 'sa1', 'balance': 0, 'interest_rate_percent': 1.5, 'status': 'PENDING', 'card_id': 'c1', 'card_number': '11112222', 'credit_used': 0, 'monthly_limit': 30000}\n",
      " 7  sa1globalid  u  1577955600000  nan                                                                                                                          savings_accounts  {'balance': 15000}                                          {'account_id': 'a1', 'name': 'Anthony', 'address': 'Jakarta', 'phone_number': '87654321', 'email': 'anthony@anotherbank.com', 'savings_account_id': 'sa1', 'balance': 15000, 'interest_rate_percent': 1.5, 'status': 'PENDING', 'card_id': 'c1', 'card_number': '11112222', 'credit_used': 0, 'monthly_limit': 30000}\n",
      " 8  c1globalid   u  1578159000000  nan                                                                                                                          cards             {'status': 'ACTIVE'}                                        {'account_id': 'a1', 'name': 'Anthony', 'address': 'Jakarta', 'phone_number': '87654321', 'email': 'anthony@anotherbank.com', 'savings_account_id': 'sa1', 'balance': 15000, 'interest_rate_percent': 1.5, 'status': 'ACTIVE', 'card_id': 'c1', 'card_number': '11112222', 'credit_used': 0, 'monthly_limit': 30000}\n",
      " 9  sa1globalid  u  1578159060000  nan                                                                                                                          savings_accounts  {'interest_rate_percent': 3.0}                              {'account_id': 'a1', 'name': 'Anthony', 'address': 'Jakarta', 'phone_number': '87654321', 'email': 'anthony@anotherbank.com', 'savings_account_id': 'sa1', 'balance': 15000, 'interest_rate_percent': 3.0, 'status': 'ACTIVE', 'card_id': 'c1', 'card_number': '11112222', 'credit_used': 0, 'monthly_limit': 30000}\n",
      "10  c1globalid   u  1578313800000  nan                                                                                                                          cards             {'credit_used': 12000}                                      {'account_id': 'a1', 'name': 'Anthony', 'address': 'Jakarta', 'phone_number': '87654321', 'email': 'anthony@anotherbank.com', 'savings_account_id': 'sa1', 'balance': 15000, 'interest_rate_percent': 3.0, 'status': 'ACTIVE', 'card_id': 'c1', 'card_number': '11112222', 'credit_used': 12000, 'monthly_limit': 30000}\n",
      "11  c1globalid   u  1578420000000  nan                                                                                                                          cards             {'credit_used': 19000}                                      {'account_id': 'a1', 'name': 'Anthony', 'address': 'Jakarta', 'phone_number': '87654321', 'email': 'anthony@anotherbank.com', 'savings_account_id': 'sa1', 'balance': 15000, 'interest_rate_percent': 3.0, 'status': 'ACTIVE', 'card_id': 'c1', 'card_number': '11112222', 'credit_used': 19000, 'monthly_limit': 30000}\n",
      "12  sa1globalid  u  1578648600000  nan                                                                                                                          savings_accounts  {'balance': 40000}                                          {'account_id': 'a1', 'name': 'Anthony', 'address': 'Jakarta', 'phone_number': '87654321', 'email': 'anthony@anotherbank.com', 'savings_account_id': 'sa1', 'balance': 40000, 'interest_rate_percent': 3.0, 'status': 'ACTIVE', 'card_id': 'c1', 'card_number': '11112222', 'credit_used': 19000, 'monthly_limit': 30000}\n",
      "13  sa1globalid  u  1578654000000  nan                                                                                                                          savings_accounts  {'balance': 21000}                                          {'account_id': 'a1', 'name': 'Anthony', 'address': 'Jakarta', 'phone_number': '87654321', 'email': 'anthony@anotherbank.com', 'savings_account_id': 'sa1', 'balance': 21000, 'interest_rate_percent': 3.0, 'status': 'ACTIVE', 'card_id': 'c1', 'card_number': '11112222', 'credit_used': 19000, 'monthly_limit': 30000}\n",
      "14  c1globalid   u  1578654000000  nan                                                                                                                          cards             {'credit_used': 0}                                          {'account_id': 'a1', 'name': 'Anthony', 'address': 'Jakarta', 'phone_number': '87654321', 'email': 'anthony@anotherbank.com', 'savings_account_id': 'sa1', 'balance': 21000, 'interest_rate_percent': 3.0, 'status': 'ACTIVE', 'card_id': 'c1', 'card_number': '11112222', 'credit_used': 0, 'monthly_limit': 30000}\n",
      "15  c1globalid   u  1579078800000  nan                                                                                                                          cards             {'status': 'CLOSED'}                                        {'account_id': 'a1', 'name': 'Anthony', 'address': 'Jakarta', 'phone_number': '87654321', 'email': 'anthony@anotherbank.com', 'savings_account_id': 'sa1', 'balance': 21000, 'interest_rate_percent': 3.0, 'status': 'CLOSED', 'card_id': 'c1', 'card_number': '11112222', 'credit_used': 0, 'monthly_limit': 30000}\n",
      "16  a1globalid   u  1579078860000  nan                                                                                                                          accounts          {'card_id': ''}                                             {'account_id': 'a1', 'name': 'Anthony', 'address': 'Jakarta', 'phone_number': '87654321', 'email': 'anthony@anotherbank.com', 'savings_account_id': 'sa1', 'balance': 21000, 'interest_rate_percent': 3.0, 'status': 'CLOSED', 'card_id': '', 'card_number': '11112222', 'credit_used': 0, 'monthly_limit': 30000}\n",
      "17  sa1globalid  u  1579078860000  nan                                                                                                                          savings_accounts  {'interest_rate_percent': 1.5}                              {'account_id': 'a1', 'name': 'Anthony', 'address': 'Jakarta', 'phone_number': '87654321', 'email': 'anthony@anotherbank.com', 'savings_account_id': 'sa1', 'balance': 21000, 'interest_rate_percent': 1.5, 'status': 'CLOSED', 'card_id': '', 'card_number': '11112222', 'credit_used': 0, 'monthly_limit': 30000}\n",
      "18  c2globalid   c  1579163400000  {'card_id': 'c2', 'card_number': '12123434', 'credit_used': 0, 'monthly_limit': 70000, 'status': 'PENDING'}                  cards             nan                                                         {'account_id': 'a1', 'name': 'Anthony', 'address': 'Jakarta', 'phone_number': '87654321', 'email': 'anthony@anotherbank.com', 'savings_account_id': 'sa1', 'balance': 21000, 'interest_rate_percent': 1.5, 'status': 'PENDING', 'card_id': 'c2', 'card_number': '12123434', 'credit_used': 0, 'monthly_limit': 70000}\n",
      "19  a1globalid   u  1579163400000  nan                                                                                                                          accounts          {'card_id': 'c2'}                                           {'account_id': 'a1', 'name': 'Anthony', 'address': 'Jakarta', 'phone_number': '87654321', 'email': 'anthony@anotherbank.com', 'savings_account_id': 'sa1', 'balance': 21000, 'interest_rate_percent': 1.5, 'status': 'PENDING', 'card_id': 'c2', 'card_number': '12123434', 'credit_used': 0, 'monthly_limit': 70000}\n",
      "20  c2globalid   u  1579298400000  nan                                                                                                                          cards             {'status': 'ACTIVE'}                                        {'account_id': 'a1', 'name': 'Anthony', 'address': 'Jakarta', 'phone_number': '87654321', 'email': 'anthony@anotherbank.com', 'savings_account_id': 'sa1', 'balance': 21000, 'interest_rate_percent': 1.5, 'status': 'ACTIVE', 'card_id': 'c2', 'card_number': '12123434', 'credit_used': 0, 'monthly_limit': 70000}\n",
      "21  sa1globalid  u  1579298460000  nan                                                                                                                          savings_accounts  {'interest_rate_percent': 4.0}                              {'account_id': 'a1', 'name': 'Anthony', 'address': 'Jakarta', 'phone_number': '87654321', 'email': 'anthony@anotherbank.com', 'savings_account_id': 'sa1', 'balance': 21000, 'interest_rate_percent': 4.0, 'status': 'ACTIVE', 'card_id': 'c2', 'card_number': '12123434', 'credit_used': 0, 'monthly_limit': 70000}\n",
      "22  c2globalid   u  1579361400000  nan                                                                                                                          cards             {'credit_used': 37000}                                      {'account_id': 'a1', 'name': 'Anthony', 'address': 'Jakarta', 'phone_number': '87654321', 'email': 'anthony@anotherbank.com', 'savings_account_id': 'sa1', 'balance': 21000, 'interest_rate_percent': 4.0, 'status': 'ACTIVE', 'card_id': 'c2', 'card_number': '12123434', 'credit_used': 37000, 'monthly_limit': 70000}\n",
      "23  sa1globalid  u  1579505400000  nan                                                                                                                          savings_accounts  {'balance': 33000}                                          {'account_id': 'a1', 'name': 'Anthony', 'address': 'Jakarta', 'phone_number': '87654321', 'email': 'anthony@anotherbank.com', 'savings_account_id': 'sa1', 'balance': 33000, 'interest_rate_percent': 4.0, 'status': 'ACTIVE', 'card_id': 'c2', 'card_number': '12123434', 'credit_used': 37000, 'monthly_limit': 70000}\n",
      "--  -----------  -  -------------  ---------------------------------------------------------------------------------------------------------------------------  ----------------  ----------------------------------------------------------  ------------------------------------------------------------------------------------------------------------------------------------------------------------------------------------------------------------------------------------------------------------------------------------------------------------------------\n"
     ]
    }
   ],
   "source": [
    "\n",
    "onlyfiles = glob.glob('D:\\\\dwh-coding-challenge\\\\DWH-Challenge\\\\data\\\\*\\\\*.json')\n",
    "\n",
    "\n",
    "list_data2=[]\n",
    "\n",
    "for i in range(0,len(onlyfiles)):\n",
    "    f = open(onlyfiles[i])\n",
    "    data = json.load(f)\n",
    "    data['table_name']  = os.path.basename(os.path.dirname(onlyfiles[i]))\n",
    "    list_data2.append(data)\n",
    "\n",
    "#Sorting List by Historical\n",
    "list_data2=pd.DataFrame(list_data)\n",
    "list_data2=list_data2.sort_values('ts')\n",
    "list_data2 = list_data2.values.tolist()\n",
    "\n",
    "def Convert(lst):\n",
    "    res_dct = {lst[i]: lst[i + 1] for i in range(0, len(lst), 2)}\n",
    "    return res_dct\n",
    "    \n",
    "for i in range(0,len(list_data2)):\n",
    "    if(i==0):\n",
    "        if('u' in list_data2[i][1]):\n",
    "            list_data2[i].append([])\n",
    "            list_data2[i][6]=list_data2[i][5]\n",
    "        else:\n",
    "            list_data2[i].append([])\n",
    "            list_data2[i][6]=list_data2[i][3]\n",
    "    else:\n",
    "        if('u' in list_data2[i][1]):\n",
    "            list_data2[i].append([])\n",
    "            list_data2[i][6]=list_data2[i-1][6] | list_data2[i][5]\n",
    "        else:\n",
    "            list_data2[i].append([])\n",
    "            list_data2[i][6]=list_data2[i-1][6] | list_data2[i][3]\n",
    "\n",
    "#Solution No 2 with updated_result if the update and new data takes place\n",
    "list_data2=pd.DataFrame(list_data2,columns=['id','op','ts','data','table_name','set','updated_result'])\n",
    "\n",
    "print(tabulate(list_data2))"
   ]
  },
  {
   "cell_type": "code",
   "execution_count": 31,
   "metadata": {},
   "outputs": [
    {
     "name": "stdout",
     "output_type": "stream",
     "text": [
      "--  -----------  -  -------------------  ---------------------------------------------------------------------------------------------------------------------------  ----------------  ----------------------------------------------------------  ------------------------------------------------------------------------------------------------------------------------------------------------------------------------------------------------------------------------------------------------------------------------------------------------------------------------\n",
      " 0  a1globalid   c  2020-01-01 14:30:00  {'account_id': 'a1', 'name': 'Anthony', 'address': 'New York', 'phone_number': '12345678', 'email': 'anthony@somebank.com'}  accounts          nan                                                         {'account_id': 'a1', 'name': 'Anthony', 'address': 'New York', 'phone_number': '12345678', 'email': 'anthony@somebank.com'}\n",
      " 1  a1globalid   u  2020-01-01 15:00:00  nan                                                                                                                          accounts          {'phone_number': '87654321'}                                {'account_id': 'a1', 'name': 'Anthony', 'address': 'New York', 'phone_number': '87654321', 'email': 'anthony@somebank.com'}\n",
      " 2  a1globalid   u  2020-01-01 22:00:00  nan                                                                                                                          accounts          {'savings_account_id': 'sa1'}                               {'account_id': 'a1', 'name': 'Anthony', 'address': 'New York', 'phone_number': '87654321', 'email': 'anthony@somebank.com', 'savings_account_id': 'sa1'}\n",
      " 3  sa1globalid  c  2020-01-01 22:00:00  {'savings_account_id': 'sa1', 'balance': 0, 'interest_rate_percent': 1.5, 'status': 'ACTIVE'}                                savings_accounts  nan                                                         {'account_id': 'a1', 'name': 'Anthony', 'address': 'New York', 'phone_number': '87654321', 'email': 'anthony@somebank.com', 'savings_account_id': 'sa1', 'balance': 0, 'interest_rate_percent': 1.5, 'status': 'ACTIVE'}\n",
      " 4  a1globalid   u  2020-01-01 23:00:00  nan                                                                                                                          accounts          {'address': 'Jakarta', 'email': 'anthony@anotherbank.com'}  {'account_id': 'a1', 'name': 'Anthony', 'address': 'Jakarta', 'phone_number': '87654321', 'email': 'anthony@anotherbank.com', 'savings_account_id': 'sa1', 'balance': 0, 'interest_rate_percent': 1.5, 'status': 'ACTIVE'}\n",
      " 5  a1globalid   u  2020-01-02 08:00:00  nan                                                                                                                          accounts          {'card_id': 'c1'}                                           {'account_id': 'a1', 'name': 'Anthony', 'address': 'Jakarta', 'phone_number': '87654321', 'email': 'anthony@anotherbank.com', 'savings_account_id': 'sa1', 'balance': 0, 'interest_rate_percent': 1.5, 'status': 'ACTIVE', 'card_id': 'c1'}\n",
      " 6  c1globalid   c  2020-01-02 08:00:00  {'card_id': 'c1', 'card_number': '11112222', 'credit_used': 0, 'monthly_limit': 30000, 'status': 'PENDING'}                  cards             nan                                                         {'account_id': 'a1', 'name': 'Anthony', 'address': 'Jakarta', 'phone_number': '87654321', 'email': 'anthony@anotherbank.com', 'savings_account_id': 'sa1', 'balance': 0, 'interest_rate_percent': 1.5, 'status': 'PENDING', 'card_id': 'c1', 'card_number': '11112222', 'credit_used': 0, 'monthly_limit': 30000}\n",
      " 7  sa1globalid  u  2020-01-02 16:00:00  nan                                                                                                                          savings_accounts  {'balance': 15000}                                          {'account_id': 'a1', 'name': 'Anthony', 'address': 'Jakarta', 'phone_number': '87654321', 'email': 'anthony@anotherbank.com', 'savings_account_id': 'sa1', 'balance': 15000, 'interest_rate_percent': 1.5, 'status': 'PENDING', 'card_id': 'c1', 'card_number': '11112222', 'credit_used': 0, 'monthly_limit': 30000}\n",
      " 8  c1globalid   u  2020-01-05 00:30:00  nan                                                                                                                          cards             {'status': 'ACTIVE'}                                        {'account_id': 'a1', 'name': 'Anthony', 'address': 'Jakarta', 'phone_number': '87654321', 'email': 'anthony@anotherbank.com', 'savings_account_id': 'sa1', 'balance': 15000, 'interest_rate_percent': 1.5, 'status': 'ACTIVE', 'card_id': 'c1', 'card_number': '11112222', 'credit_used': 0, 'monthly_limit': 30000}\n",
      " 9  sa1globalid  u  2020-01-05 00:31:00  nan                                                                                                                          savings_accounts  {'interest_rate_percent': 3.0}                              {'account_id': 'a1', 'name': 'Anthony', 'address': 'Jakarta', 'phone_number': '87654321', 'email': 'anthony@anotherbank.com', 'savings_account_id': 'sa1', 'balance': 15000, 'interest_rate_percent': 3.0, 'status': 'ACTIVE', 'card_id': 'c1', 'card_number': '11112222', 'credit_used': 0, 'monthly_limit': 30000}\n",
      "10  c1globalid   u  2020-01-06 19:30:00  nan                                                                                                                          cards             {'credit_used': 12000}                                      {'account_id': 'a1', 'name': 'Anthony', 'address': 'Jakarta', 'phone_number': '87654321', 'email': 'anthony@anotherbank.com', 'savings_account_id': 'sa1', 'balance': 15000, 'interest_rate_percent': 3.0, 'status': 'ACTIVE', 'card_id': 'c1', 'card_number': '11112222', 'credit_used': 12000, 'monthly_limit': 30000}\n",
      "11  c1globalid   u  2020-01-08 01:00:00  nan                                                                                                                          cards             {'credit_used': 19000}                                      {'account_id': 'a1', 'name': 'Anthony', 'address': 'Jakarta', 'phone_number': '87654321', 'email': 'anthony@anotherbank.com', 'savings_account_id': 'sa1', 'balance': 15000, 'interest_rate_percent': 3.0, 'status': 'ACTIVE', 'card_id': 'c1', 'card_number': '11112222', 'credit_used': 19000, 'monthly_limit': 30000}\n",
      "12  sa1globalid  u  2020-01-10 16:30:00  nan                                                                                                                          savings_accounts  {'balance': 40000}                                          {'account_id': 'a1', 'name': 'Anthony', 'address': 'Jakarta', 'phone_number': '87654321', 'email': 'anthony@anotherbank.com', 'savings_account_id': 'sa1', 'balance': 40000, 'interest_rate_percent': 3.0, 'status': 'ACTIVE', 'card_id': 'c1', 'card_number': '11112222', 'credit_used': 19000, 'monthly_limit': 30000}\n",
      "13  sa1globalid  u  2020-01-10 18:00:00  nan                                                                                                                          savings_accounts  {'balance': 21000}                                          {'account_id': 'a1', 'name': 'Anthony', 'address': 'Jakarta', 'phone_number': '87654321', 'email': 'anthony@anotherbank.com', 'savings_account_id': 'sa1', 'balance': 21000, 'interest_rate_percent': 3.0, 'status': 'ACTIVE', 'card_id': 'c1', 'card_number': '11112222', 'credit_used': 19000, 'monthly_limit': 30000}\n",
      "14  c1globalid   u  2020-01-10 18:00:00  nan                                                                                                                          cards             {'credit_used': 0}                                          {'account_id': 'a1', 'name': 'Anthony', 'address': 'Jakarta', 'phone_number': '87654321', 'email': 'anthony@anotherbank.com', 'savings_account_id': 'sa1', 'balance': 21000, 'interest_rate_percent': 3.0, 'status': 'ACTIVE', 'card_id': 'c1', 'card_number': '11112222', 'credit_used': 0, 'monthly_limit': 30000}\n",
      "15  c1globalid   u  2020-01-15 16:00:00  nan                                                                                                                          cards             {'status': 'CLOSED'}                                        {'account_id': 'a1', 'name': 'Anthony', 'address': 'Jakarta', 'phone_number': '87654321', 'email': 'anthony@anotherbank.com', 'savings_account_id': 'sa1', 'balance': 21000, 'interest_rate_percent': 3.0, 'status': 'CLOSED', 'card_id': 'c1', 'card_number': '11112222', 'credit_used': 0, 'monthly_limit': 30000}\n",
      "16  a1globalid   u  2020-01-15 16:01:00  nan                                                                                                                          accounts          {'card_id': ''}                                             {'account_id': 'a1', 'name': 'Anthony', 'address': 'Jakarta', 'phone_number': '87654321', 'email': 'anthony@anotherbank.com', 'savings_account_id': 'sa1', 'balance': 21000, 'interest_rate_percent': 3.0, 'status': 'CLOSED', 'card_id': '', 'card_number': '11112222', 'credit_used': 0, 'monthly_limit': 30000}\n",
      "17  sa1globalid  u  2020-01-15 16:01:00  nan                                                                                                                          savings_accounts  {'interest_rate_percent': 1.5}                              {'account_id': 'a1', 'name': 'Anthony', 'address': 'Jakarta', 'phone_number': '87654321', 'email': 'anthony@anotherbank.com', 'savings_account_id': 'sa1', 'balance': 21000, 'interest_rate_percent': 1.5, 'status': 'CLOSED', 'card_id': '', 'card_number': '11112222', 'credit_used': 0, 'monthly_limit': 30000}\n",
      "18  c2globalid   c  2020-01-16 15:30:00  {'card_id': 'c2', 'card_number': '12123434', 'credit_used': 0, 'monthly_limit': 70000, 'status': 'PENDING'}                  cards             nan                                                         {'account_id': 'a1', 'name': 'Anthony', 'address': 'Jakarta', 'phone_number': '87654321', 'email': 'anthony@anotherbank.com', 'savings_account_id': 'sa1', 'balance': 21000, 'interest_rate_percent': 1.5, 'status': 'PENDING', 'card_id': 'c2', 'card_number': '12123434', 'credit_used': 0, 'monthly_limit': 70000}\n",
      "19  a1globalid   u  2020-01-16 15:30:00  nan                                                                                                                          accounts          {'card_id': 'c2'}                                           {'account_id': 'a1', 'name': 'Anthony', 'address': 'Jakarta', 'phone_number': '87654321', 'email': 'anthony@anotherbank.com', 'savings_account_id': 'sa1', 'balance': 21000, 'interest_rate_percent': 1.5, 'status': 'PENDING', 'card_id': 'c2', 'card_number': '12123434', 'credit_used': 0, 'monthly_limit': 70000}\n",
      "20  c2globalid   u  2020-01-18 05:00:00  nan                                                                                                                          cards             {'status': 'ACTIVE'}                                        {'account_id': 'a1', 'name': 'Anthony', 'address': 'Jakarta', 'phone_number': '87654321', 'email': 'anthony@anotherbank.com', 'savings_account_id': 'sa1', 'balance': 21000, 'interest_rate_percent': 1.5, 'status': 'ACTIVE', 'card_id': 'c2', 'card_number': '12123434', 'credit_used': 0, 'monthly_limit': 70000}\n",
      "21  sa1globalid  u  2020-01-18 05:01:00  nan                                                                                                                          savings_accounts  {'interest_rate_percent': 4.0}                              {'account_id': 'a1', 'name': 'Anthony', 'address': 'Jakarta', 'phone_number': '87654321', 'email': 'anthony@anotherbank.com', 'savings_account_id': 'sa1', 'balance': 21000, 'interest_rate_percent': 4.0, 'status': 'ACTIVE', 'card_id': 'c2', 'card_number': '12123434', 'credit_used': 0, 'monthly_limit': 70000}\n",
      "22  c2globalid   u  2020-01-18 22:30:00  nan                                                                                                                          cards             {'credit_used': 37000}                                      {'account_id': 'a1', 'name': 'Anthony', 'address': 'Jakarta', 'phone_number': '87654321', 'email': 'anthony@anotherbank.com', 'savings_account_id': 'sa1', 'balance': 21000, 'interest_rate_percent': 4.0, 'status': 'ACTIVE', 'card_id': 'c2', 'card_number': '12123434', 'credit_used': 37000, 'monthly_limit': 70000}\n",
      "23  sa1globalid  u  2020-01-20 14:30:00  nan                                                                                                                          savings_accounts  {'balance': 33000}                                          {'account_id': 'a1', 'name': 'Anthony', 'address': 'Jakarta', 'phone_number': '87654321', 'email': 'anthony@anotherbank.com', 'savings_account_id': 'sa1', 'balance': 33000, 'interest_rate_percent': 4.0, 'status': 'ACTIVE', 'card_id': 'c2', 'card_number': '12123434', 'credit_used': 37000, 'monthly_limit': 70000}\n",
      "--  -----------  -  -------------------  ---------------------------------------------------------------------------------------------------------------------------  ----------------  ----------------------------------------------------------  ------------------------------------------------------------------------------------------------------------------------------------------------------------------------------------------------------------------------------------------------------------------------------------------------------------------------\n"
     ]
    }
   ],
   "source": [
    "# SOLUTION NO 3\n",
    "# Change timestamp to datetime for easier read\n",
    "\n",
    "\n",
    "list_data2['ts']=[time.strftime('%Y-%m-%d %H:%M:%S', time.localtime(int(str(x)[:10]))) for x in list_data2['ts']]\n",
    "\n",
    "print(tabulate(list_data2))\n",
    "# Convenient Read\n",
    "\n",
    "#   From result from point no 2, discuss how many transactions has been made, when did each of them occur, and how much the value of each transaction?  \n",
    "#    Transaction is defined as activity which change the balance of the savings account or credit used of the card\n",
    "\n",
    "    #how many transactions has been made\n",
    "        #  There are 8 transactions with 4 of them are Balance Type and 4 are credit used, \n",
    "            #  But if we look at card type thats been used as transaction, c2 has 2 historical transaction and c1 has triple transaction amount\n",
    "                #c2 has 2 historical transaction and c1 has triple transaction amount\n",
    "    #when did each of them occur\n",
    "        #  C1 has 6 Transaction that happen at  1x balance transaction  at 2 January 2020, 1x credit used at 6 January 2020, 1x credit used at 8 January 2020, 3x (2x balance and 1x credit used transaction) at 10 January 2020\n",
    "            #   C2 has 2 Transaction that happen at  1x credit used  at 18 January 2020, 1x balance transaction at 20 January 2020  \n",
    "                #   All of them happen at January 2020\n",
    "    #how much the value of each transaction\n",
    "        #  C1 has sum of 76000 value balance transaction and 38000 credit used value transaction\n",
    "            #   C2 has sum of 33000 value balance transaction and 37000 credit used value transaction\n",
    "                #  With 2 of them combined has value 184000\n",
    "\n",
    "    #Interesting Fact that, It's true that 'monthly_limit' of credit will increase as we using it"
   ]
  }
 ],
 "metadata": {
  "kernelspec": {
   "display_name": "Python 3.9.7 ('base')",
   "language": "python",
   "name": "python3"
  },
  "language_info": {
   "codemirror_mode": {
    "name": "ipython",
    "version": 3
   },
   "file_extension": ".py",
   "mimetype": "text/x-python",
   "name": "python",
   "nbconvert_exporter": "python",
   "pygments_lexer": "ipython3",
   "version": "3.9.7"
  },
  "orig_nbformat": 4,
  "vscode": {
   "interpreter": {
    "hash": "ad2bdc8ecc057115af97d19610ffacc2b4e99fae6737bb82f5d7fb13d2f2c186"
   }
  }
 },
 "nbformat": 4,
 "nbformat_minor": 2
}
