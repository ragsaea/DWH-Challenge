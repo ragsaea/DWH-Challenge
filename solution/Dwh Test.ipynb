{
 "cells": [
  {
   "cell_type": "code",
   "execution_count": 7,
   "metadata": {},
   "outputs": [],
   "source": [
    "import asyncio\n",
    "import aiohttp\n",
    "import os\n",
    "import time\n",
    "from pandas.core.frame import DataFrame as df\n",
    "import pandas as pd\n",
    "from datetime import datetime as dt\n",
    "import requests as req\n",
    "from pandas import json_normalize\n",
    "import pyodbc\n",
    "from fast_to_sql import fast_to_sql as fts\n",
    "import connectorx as cx\n",
    "import sqlalchemy\n",
    "from pandasql import sqldf\n",
    "import re \n",
    "import numpy as np\n",
    "from time import strftime\n",
    "from time import gmtime\n",
    "from humanfriendly import format_timespan\n",
    "import requests\n",
    "from requests_negotiate import HTTPNegotiateAuth\n",
    "import phonenumbers\n",
    "import json\n",
    "from os import listdir\n",
    "from os.path import isfile, join\n",
    "import glob"
   ]
  },
  {
   "cell_type": "code",
   "execution_count": 9,
   "metadata": {},
   "outputs": [],
   "source": [
    "onlyfiles = glob.glob('D:\\\\dwh-coding-challenge\\\\DWH-Challenge\\\\data\\\\*\\\\*.json')"
   ]
  },
  {
   "cell_type": "code",
   "execution_count": 10,
   "metadata": {},
   "outputs": [],
   "source": [
    "onlyfiles = glob.glob('D:\\\\dwh-coding-challenge\\\\DWH-Challenge\\\\data\\\\*\\\\*.json')\n",
    "\n",
    "list_data=[]\n",
    "\n",
    "for i in range(0,len(onlyfiles)):\n",
    "    f = open(onlyfiles[i])\n",
    "    data = json.load(f)\n",
    "    list_data.append(data)\n",
    "\n"
   ]
  }
 ],
 "metadata": {
  "kernelspec": {
   "display_name": "Python 3.9.7 ('base')",
   "language": "python",
   "name": "python3"
  },
  "language_info": {
   "codemirror_mode": {
    "name": "ipython",
    "version": 3
   },
   "file_extension": ".py",
   "mimetype": "text/x-python",
   "name": "python",
   "nbconvert_exporter": "python",
   "pygments_lexer": "ipython3",
   "version": "3.9.7"
  },
  "orig_nbformat": 4,
  "vscode": {
   "interpreter": {
    "hash": "ad2bdc8ecc057115af97d19610ffacc2b4e99fae6737bb82f5d7fb13d2f2c186"
   }
  }
 },
 "nbformat": 4,
 "nbformat_minor": 2
}
